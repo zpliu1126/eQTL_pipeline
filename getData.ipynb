{
 "cells": [
  {
   "cell_type": "code",
   "execution_count": 1,
   "metadata": {},
   "outputs": [],
   "source": [
    "import pandas as pd "
   ]
  },
  {
   "cell_type": "code",
   "execution_count": 2,
   "metadata": {},
   "outputs": [],
   "source": [
    "#----------------------------------------------------------------------\n",
    "#? 基因表达量文件跑peer时，不需要header与index\n",
    "#* 对基因表达量进行进一步过滤\n",
    "#? 表达量大于0.5 的样本占比超过20% \n",
    "#? 存在两倍表达差异\n",
    "#----------------------------------------------------------------------\n",
    "geneExpression=pd.read_csv(\"FPKM/gene_expression.txt\",header=0,index_col=0,sep=\"\\t\")\n",
    "geneExpression=geneExpression.T\n",
    "lowIndex=int(geneExpression.shape[0]*0.05)\n",
    "highIndex=int(geneExpression.shape[0]*0.95)\n",
    "fiterGenePair=[]\n",
    "for gene,ratio in geneExpression.apply(lambda x: len([i for i in x if i>0.1])/geneExpression.shape[0],axis=0).iteritems():\n",
    "        if ratio>=0.05:\n",
    "            lowExpression=geneExpression[gene].sort_values()[lowIndex]\n",
    "            highExpression=geneExpression[gene].sort_values()[highIndex]\n",
    "            #* 基因在至少20%样本中表达\n",
    "            if (highExpression-lowExpression)/(highExpression+lowExpression)>=0.33:\n",
    "                #* 95%和5%的样本存在表达差异\n",
    "                fiterGenePair.append(gene) \n",
    "\n",
    "fiter_expression=geneExpression[fiterGenePair]\n",
    "fiter_expression.to_csv(\"./peer/filter_gene_expression.txt\",header=False,index=False,sep=\",\")\n",
    "pd.Series(fiterGenePair).to_csv(\"peer/filter_genePair.txt\",header=False,index=False,sep=\"\\t\")"
   ]
  },
  {
   "cell_type": "code",
   "execution_count": null,
   "metadata": {},
   "outputs": [],
   "source": []
  }
 ],
 "metadata": {
  "interpreter": {
   "hash": "66aa2addb38c89a0d43f63cbdb966cb2dba790ca2bb4fa0a3d79065325ea50af"
  },
  "kernelspec": {
   "display_name": "Python 3.9.13 ('base')",
   "language": "python",
   "name": "python3"
  },
  "language_info": {
   "codemirror_mode": {
    "name": "ipython",
    "version": 3
   },
   "file_extension": ".py",
   "mimetype": "text/x-python",
   "name": "python",
   "nbconvert_exporter": "python",
   "pygments_lexer": "ipython3",
   "version": "3.9.13"
  },
  "orig_nbformat": 4
 },
 "nbformat": 4,
 "nbformat_minor": 2
}
