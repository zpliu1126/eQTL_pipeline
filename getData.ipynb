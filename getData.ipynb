{
 "cells": [
  {
   "cell_type": "code",
   "execution_count": 1,
   "metadata": {},
   "outputs": [],
   "source": [
    "import pandas as pd "
   ]
  },
  {
   "cell_type": "code",
   "execution_count": 2,
   "metadata": {},
   "outputs": [],
   "source": [
    "#----------------------------------------------------------------------\n",
    "#? 基因表达量文件跑peer时，不需要header与index\n",
    "#* 对基因表达量进行进一步过滤\n",
    "#? 表达量大于0.5 的样本占比超过20% \n",
    "#? 存在两倍表达差异\n",
    "#----------------------------------------------------------------------\n",
    "geneExpression=pd.read_csv(\"FPKM/gene_expression.txt\",header=0,index_col=0,sep=\"\\t\")\n",
    "geneExpression=geneExpression.T\n",
    "lowIndex=int(geneExpression.shape[0]*0.05)\n",
    "highIndex=int(geneExpression.shape[0]*0.95)\n",
    "fiterGenePair=[]\n",
    "for gene,ratio in geneExpression.apply(lambda x: len([i for i in x if i>0.1])/geneExpression.shape[0],axis=0).iteritems():\n",
    "        if ratio>=0.05:\n",
    "            lowExpression=geneExpression[gene].sort_values()[lowIndex]\n",
    "            highExpression=geneExpression[gene].sort_values()[highIndex]\n",
    "            #* 基因在至少20%样本中表达\n",
    "            if (highExpression-lowExpression)/(highExpression+lowExpression)>=0.33:\n",
    "                #* 95%和5%的样本存在表达差异\n",
    "                fiterGenePair.append(gene) \n",
    "\n",
    "fiter_expression=geneExpression[fiterGenePair]\n",
    "fiter_expression.to_csv(\"./peer/filter_gene_expression.txt\",header=False,index=False,sep=\",\")\n",
    "pd.Series(fiterGenePair).to_csv(\"peer/filter_genePair.txt\",header=False,index=False,sep=\"\\t\")"
   ]
  },
  {
   "cell_type": "code",
   "execution_count": 1,
   "metadata": {},
   "outputs": [
    {
     "name": "stdout",
     "output_type": "stream",
     "text": [
      "using cpu\n"
     ]
    }
   ],
   "source": [
    "#TODO 进行eQTL mapping\n",
    "import pandas as pd\n",
    "import tensorqtl\n",
    "from tensorqtl import genotypeio, cis, trans\n",
    "import os\n",
    "import torch\n",
    "import sys\n",
    "\n",
    "os.environ['CUDA_VISIBLE_DEVICES'] = \"0\"\n",
    "device = torch.device('cuda' if torch.cuda.is_available() else 'cpu')\n",
    "print('using {}'.format(device))"
   ]
  },
  {
   "cell_type": "code",
   "execution_count": 3,
   "metadata": {},
   "outputs": [],
   "source": [
    "#TODO 输入数据\n",
    "plink_prefix_path ='/cotton/Liuzhenping/diaploidCotton_sQTL/Genotype/filter2_Q600_SNPs_joint_216_number_chr'\n",
    "expression_bed = './phenotype/gene_expression_peer_5.bed.gz'\n",
    "covariates_file = './PCA_qcovar.txt'\n"
   ]
  },
  {
   "cell_type": "code",
   "execution_count": 4,
   "metadata": {},
   "outputs": [
    {
     "name": "stderr",
     "output_type": "stream",
     "text": [
      "Mapping files: 100%|██████████| 3/3 [00:05<00:00,  1.99s/it]\n"
     ]
    }
   ],
   "source": [
    "#TODO 加载数据\n",
    "# load phenotypes and covariates\n",
    "phenotype_df, phenotype_pos_df = tensorqtl.read_phenotype_bed(expression_bed)\n",
    "\n",
    "covariates_df = pd.read_csv(\n",
    "    covariates_file, sep='\\t', index_col=0, header=None)  # samples x covariates\n",
    "# * 协变量文件，最终格式为 samples x covariates\n",
    "covariates_df.drop([1], axis=1)\n",
    "covariates_df = covariates_df.drop([1], axis=1)\n",
    "covariates_df.index.name = 'id'\n",
    "covariates_df.columns = ['PC1', 'PC2', 'PC3']\n",
    "covariates_df = covariates_df.loc[phenotype_df.columns]\n",
    "\n",
    "#* 基因型文件, 对应时期的样本编号\n",
    "pr = genotypeio.PlinkReader(\n",
    "    plink_prefix_path, select_samples=phenotype_df.columns)\n",
    "\n",
    "# load genotypes and variants into data frames\n",
    "genotype_df = pr.load_genotypes()\n",
    "variant_df = pr.bim.set_index('snp')[['chrom', 'pos']]"
   ]
  },
  {
   "cell_type": "code",
   "execution_count": null,
   "metadata": {},
   "outputs": [],
   "source": [
    "# 进行cis-eQTL permutate分析\n",
    "cis_df = cis.map_cis(genotype_df,\n",
    "                         variant_df,\n",
    "                         phenotype_df,\n",
    "                         phenotype_pos_df,\n",
    "                         covariates_df,\n",
    "                         nperm=1000,\n",
    "                         maf_threshold=0.05,\n",
    "                         window=1000000,\n",
    "                         seed=2022\n",
    "                         )"
   ]
  },
  {
   "cell_type": "code",
   "execution_count": null,
   "metadata": {},
   "outputs": [],
   "source": [
    "# 进行cis-eQTL nominal分析\n",
    "cis.map_nominal(genotype_df, variant_df,\n",
    "                             phenotype_df,\n",
    "                             phenotype_pos_df,\n",
    "                             prefix='nominalOut',\n",
    "                             covariates_df=covariates_df,\n",
    "                             maf_threshold=0.05,\n",
    "                             window=1000000,\n",
    "                             output_dir='.',\n",
    "                             write_top=True, write_stats=True)"
   ]
  },
  {
   "cell_type": "code",
   "execution_count": 7,
   "metadata": {},
   "outputs": [
    {
     "name": "stdout",
     "output_type": "stream",
     "text": [
      "trans-QTL mapping\n",
      "  * 197 samples\n",
      "  * 7 phenotypes\n",
      "  * 3 covariates\n",
      "  * 2143543 variants\n",
      "    processing batch 108/108\n",
      "    elapsed time: 0.47 min\n",
      "  * 1410773 variants passed MAF >= 0.05 filtering\n",
      "done.\n"
     ]
    }
   ],
   "source": [
    "#TODO 进行trans-eQTL分析\n",
    "#! 保留所有显著的位点\n",
    "trans_df = trans.map_trans(genotype_df, phenotype_df, covariates_df,\n",
    "                           return_sparse=True, pval_threshold=1, maf_threshold=0.05,\n",
    "                           batch_size=20000)"
   ]
  },
  {
   "cell_type": "code",
   "execution_count": 10,
   "metadata": {},
   "outputs": [],
   "source": [
    "trans_df=trans_df.loc[trans_df['phenotype_id']=='Garb_01G000040']"
   ]
  },
  {
   "cell_type": "code",
   "execution_count": 12,
   "metadata": {},
   "outputs": [],
   "source": [
    "trans_df.to_csv(\"Garb_01G000040_trans_MAF.5.txt\",header=True,index=False)"
   ]
  },
  {
   "cell_type": "code",
   "execution_count": null,
   "metadata": {},
   "outputs": [],
   "source": []
  }
 ],
 "metadata": {
  "interpreter": {
   "hash": "66aa2addb38c89a0d43f63cbdb966cb2dba790ca2bb4fa0a3d79065325ea50af"
  },
  "kernelspec": {
   "display_name": "Python 3.9.13 ('base')",
   "language": "python",
   "name": "python3"
  },
  "language_info": {
   "codemirror_mode": {
    "name": "ipython",
    "version": 3
   },
   "file_extension": ".py",
   "mimetype": "text/x-python",
   "name": "python",
   "nbconvert_exporter": "python",
   "pygments_lexer": "ipython3",
   "version": "3.9.13"
  },
  "orig_nbformat": 4
 },
 "nbformat": 4,
 "nbformat_minor": 2
}
