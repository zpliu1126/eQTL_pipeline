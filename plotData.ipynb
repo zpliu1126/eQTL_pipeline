{
 "cells": [
  {
   "cell_type": "code",
   "execution_count": 9,
   "metadata": {},
   "outputs": [],
   "source": [
    "library(CMplot)\n",
    "library(dplyr)\n",
    "library(tidyr)"
   ]
  },
  {
   "cell_type": "code",
   "execution_count": 5,
   "metadata": {},
   "outputs": [],
   "source": [
    "trans_data <- read.table(\n",
    "    gzfile(\"Garb_01G000040_trans_MAF.5.txt.gz\"),\n",
    "    header = T,\n",
    "    sep=\",\"\n",
    ")"
   ]
  },
  {
   "cell_type": "code",
   "execution_count": 16,
   "metadata": {},
   "outputs": [],
   "source": [
    "#TODO 切割获取染色体ID和SNP坐标\n",
    "trans_data <- separate(data = trans_data, col = \"variant_id\", into = c(\n",
    "    \"Chromosome\", \"Position\"\n",
    "), sep = \"_\", remove = FALSE)\n",
    "#调整列出现的顺序\n",
    "plotData=trans_data %>% select(c(\"variant_id\", \"Chromosome\", \"Position\",\"pval\"))"
   ]
  },
  {
   "cell_type": "code",
   "execution_count": 25,
   "metadata": {},
   "outputs": [
    {
     "data": {
      "text/html": [
       "<table class=\"dataframe\">\n",
       "<caption>A data.frame: 7 × 4</caption>\n",
       "<thead>\n",
       "\t<tr><th scope=col>variant_id</th><th scope=col>Chromosome</th><th scope=col>Position</th><th scope=col>pval</th></tr>\n",
       "\t<tr><th scope=col>&lt;fct&gt;</th><th scope=col>&lt;chr&gt;</th><th scope=col>&lt;chr&gt;</th><th scope=col>&lt;dbl&gt;</th></tr>\n",
       "</thead>\n",
       "<tbody>\n",
       "\t<tr><td>12_119343172</td><td>12</td><td>119343172</td><td>6.012033e-08</td></tr>\n",
       "\t<tr><td>12_119358264</td><td>12</td><td>119358264</td><td>6.936327e-08</td></tr>\n",
       "\t<tr><td>12_119359227</td><td>12</td><td>119359227</td><td>1.123156e-07</td></tr>\n",
       "\t<tr><td>12_119391118</td><td>12</td><td>119391118</td><td>3.781388e-08</td></tr>\n",
       "\t<tr><td>12_119401304</td><td>12</td><td>119401304</td><td>1.259025e-08</td></tr>\n",
       "\t<tr><td>12_119424092</td><td>12</td><td>119424092</td><td>9.132270e-08</td></tr>\n",
       "\t<tr><td>12_119485396</td><td>12</td><td>119485396</td><td>8.957855e-08</td></tr>\n",
       "</tbody>\n",
       "</table>\n"
      ],
      "text/latex": [
       "A data.frame: 7 × 4\n",
       "\\begin{tabular}{llll}\n",
       " variant\\_id & Chromosome & Position & pval\\\\\n",
       " <fct> & <chr> & <chr> & <dbl>\\\\\n",
       "\\hline\n",
       "\t 12\\_119343172 & 12 & 119343172 & 6.012033e-08\\\\\n",
       "\t 12\\_119358264 & 12 & 119358264 & 6.936327e-08\\\\\n",
       "\t 12\\_119359227 & 12 & 119359227 & 1.123156e-07\\\\\n",
       "\t 12\\_119391118 & 12 & 119391118 & 3.781388e-08\\\\\n",
       "\t 12\\_119401304 & 12 & 119401304 & 1.259025e-08\\\\\n",
       "\t 12\\_119424092 & 12 & 119424092 & 9.132270e-08\\\\\n",
       "\t 12\\_119485396 & 12 & 119485396 & 8.957855e-08\\\\\n",
       "\\end{tabular}\n"
      ],
      "text/markdown": [
       "\n",
       "A data.frame: 7 × 4\n",
       "\n",
       "| variant_id &lt;fct&gt; | Chromosome &lt;chr&gt; | Position &lt;chr&gt; | pval &lt;dbl&gt; |\n",
       "|---|---|---|---|\n",
       "| 12_119343172 | 12 | 119343172 | 6.012033e-08 |\n",
       "| 12_119358264 | 12 | 119358264 | 6.936327e-08 |\n",
       "| 12_119359227 | 12 | 119359227 | 1.123156e-07 |\n",
       "| 12_119391118 | 12 | 119391118 | 3.781388e-08 |\n",
       "| 12_119401304 | 12 | 119401304 | 1.259025e-08 |\n",
       "| 12_119424092 | 12 | 119424092 | 9.132270e-08 |\n",
       "| 12_119485396 | 12 | 119485396 | 8.957855e-08 |\n",
       "\n"
      ],
      "text/plain": [
       "  variant_id   Chromosome Position  pval        \n",
       "1 12_119343172 12         119343172 6.012033e-08\n",
       "2 12_119358264 12         119358264 6.936327e-08\n",
       "3 12_119359227 12         119359227 1.123156e-07\n",
       "4 12_119391118 12         119391118 3.781388e-08\n",
       "5 12_119401304 12         119401304 1.259025e-08\n",
       "6 12_119424092 12         119424092 9.132270e-08\n",
       "7 12_119485396 12         119485396 8.957855e-08"
      ]
     },
     "metadata": {},
     "output_type": "display_data"
    }
   ],
   "source": [
    "plotData %>% filter(pval<=1/nrow(plotData))"
   ]
  },
  {
   "cell_type": "code",
   "execution_count": 23,
   "metadata": {},
   "outputs": [
    {
     "data": {
      "text/html": [
       "<table class=\"dataframe\">\n",
       "<caption>A data.frame: 6 × 4</caption>\n",
       "<thead>\n",
       "\t<tr><th></th><th scope=col>variant_id</th><th scope=col>Chromosome</th><th scope=col>Position</th><th scope=col>pval</th></tr>\n",
       "\t<tr><th></th><th scope=col>&lt;fct&gt;</th><th scope=col>&lt;chr&gt;</th><th scope=col>&lt;chr&gt;</th><th scope=col>&lt;dbl&gt;</th></tr>\n",
       "</thead>\n",
       "<tbody>\n",
       "\t<tr><th scope=row>1</th><td>1_784 </td><td>1</td><td>784 </td><td>0.337817038</td></tr>\n",
       "\t<tr><th scope=row>2</th><td>1_831 </td><td>1</td><td>831 </td><td>0.749978448</td></tr>\n",
       "\t<tr><th scope=row>3</th><td>1_3045</td><td>1</td><td>3045</td><td>0.006713613</td></tr>\n",
       "\t<tr><th scope=row>4</th><td>1_3169</td><td>1</td><td>3169</td><td>0.017767390</td></tr>\n",
       "\t<tr><th scope=row>5</th><td>1_7848</td><td>1</td><td>7848</td><td>0.978508259</td></tr>\n",
       "\t<tr><th scope=row>6</th><td>1_7900</td><td>1</td><td>7900</td><td>0.183733228</td></tr>\n",
       "</tbody>\n",
       "</table>\n"
      ],
      "text/latex": [
       "A data.frame: 6 × 4\n",
       "\\begin{tabular}{r|llll}\n",
       "  & variant\\_id & Chromosome & Position & pval\\\\\n",
       "  & <fct> & <chr> & <chr> & <dbl>\\\\\n",
       "\\hline\n",
       "\t1 & 1\\_784  & 1 & 784  & 0.337817038\\\\\n",
       "\t2 & 1\\_831  & 1 & 831  & 0.749978448\\\\\n",
       "\t3 & 1\\_3045 & 1 & 3045 & 0.006713613\\\\\n",
       "\t4 & 1\\_3169 & 1 & 3169 & 0.017767390\\\\\n",
       "\t5 & 1\\_7848 & 1 & 7848 & 0.978508259\\\\\n",
       "\t6 & 1\\_7900 & 1 & 7900 & 0.183733228\\\\\n",
       "\\end{tabular}\n"
      ],
      "text/markdown": [
       "\n",
       "A data.frame: 6 × 4\n",
       "\n",
       "| <!--/--> | variant_id &lt;fct&gt; | Chromosome &lt;chr&gt; | Position &lt;chr&gt; | pval &lt;dbl&gt; |\n",
       "|---|---|---|---|---|\n",
       "| 1 | 1_784  | 1 | 784  | 0.337817038 |\n",
       "| 2 | 1_831  | 1 | 831  | 0.749978448 |\n",
       "| 3 | 1_3045 | 1 | 3045 | 0.006713613 |\n",
       "| 4 | 1_3169 | 1 | 3169 | 0.017767390 |\n",
       "| 5 | 1_7848 | 1 | 7848 | 0.978508259 |\n",
       "| 6 | 1_7900 | 1 | 7900 | 0.183733228 |\n",
       "\n"
      ],
      "text/plain": [
       "  variant_id Chromosome Position pval       \n",
       "1 1_784      1          784      0.337817038\n",
       "2 1_831      1          831      0.749978448\n",
       "3 1_3045     1          3045     0.006713613\n",
       "4 1_3169     1          3169     0.017767390\n",
       "5 1_7848     1          7848     0.978508259\n",
       "6 1_7900     1          7900     0.183733228"
      ]
     },
     "metadata": {},
     "output_type": "display_data"
    }
   ],
   "source": [
    "head(plotData)"
   ]
  },
  {
   "cell_type": "code",
   "execution_count": 24,
   "metadata": {},
   "outputs": [
    {
     "name": "stdout",
     "output_type": "stream",
     "text": [
      " Rectangular-Manhattan Plotting pval.\n",
      " Plots are stored in: /public/home/zpliu/github/eQTL_pipeline \n"
     ]
    }
   ],
   "source": [
    "CMplot(plotData,\n",
    "    plot.type = \"m\",\n",
    "    col = c(\"grey30\", \"grey60\"),\n",
    "    LOG10 = TRUE,\n",
    "    threshold=1/nrow(plotData),\n",
    "    chr.den.col = NULL,\n",
    "    file = \"jpg\", memo = \"\",\n",
    "    dpi = 600,\n",
    "    chr.labels=c(paste(\"A\",sprintf('%02d',seq(1,13)),sep=\"\")),\n",
    "    width = 20, height = 6,\n",
    "    file.output = TRUE, verbose = TRUE\n",
    ")"
   ]
  },
  {
   "cell_type": "code",
   "execution_count": 26,
   "metadata": {},
   "outputs": [
    {
     "name": "stderr",
     "output_type": "stream",
     "text": [
      "\n",
      "\n",
      "For example usage please run: vignette('qqman')\n",
      "\n",
      "\n",
      "\n",
      "Citation appreciated but not required:\n",
      "\n",
      "Turner, (2018). qqman: an R package for visualizing GWAS results using Q-Q and manhattan plots. Journal of Open Source Software, 3(25), 731, https://doi.org/10.21105/joss.00731.\n",
      "\n",
      "\n",
      "\n"
     ]
    }
   ],
   "source": [
    "#TODO 绘制QQ-plot\n",
    "library(qqman)"
   ]
  },
  {
   "cell_type": "code",
   "execution_count": 27,
   "metadata": {},
   "outputs": [
    {
     "data": {
      "image/png": "[encoded data removed]",
      "text/plain": [
       "plot without title"
      ]
     },
     "metadata": {
      "image/png": {
       "height": 420,
       "width": 420
      }
     },
     "output_type": "display_data"
    }
   ],
   "source": [
    "qq(plotData$pval)"
   ]
  }
 ],
 "metadata": {
  "kernelspec": {
   "display_name": "R 3.6",
   "language": "R",
   "name": "ir32"
  },
  "language_info": {
   "codemirror_mode": "r",
   "file_extension": ".r",
   "mimetype": "text/x-r-source",
   "name": "R",
   "pygments_lexer": "r",
   "version": "3.6.0"
  },
  "orig_nbformat": 4
 },
 "nbformat": 4,
 "nbformat_minor": 2
}
